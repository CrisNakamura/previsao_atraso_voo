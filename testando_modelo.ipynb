{
 "cells": [
  {
   "cell_type": "code",
   "execution_count": 1,
   "metadata": {},
   "outputs": [
    {
     "name": "stdout",
     "output_type": "stream",
     "text": [
      "Modelo carregado com sucesso!\n"
     ]
    }
   ],
   "source": [
    "import pickle\n",
    "from warnings import simplefilter\n",
    "simplefilter(action='ignore', category=UserWarning)\n",
    "\n",
    "file_path = 'modelo_producao.pkl'\n",
    "\n",
    "try:\n",
    "    with open(file_path, 'rb') as file:\n",
    "        model = pickle.load(file)\n",
    "    print(\"Modelo carregado com sucesso!\")\n",
    "except Exception as e:\n",
    "    print(\"Ocorreu um erro ao carregar o modelo:\", str(e))"
   ]
  },
  {
   "cell_type": "code",
   "execution_count": 2,
   "metadata": {},
   "outputs": [
    {
     "name": "stdout",
     "output_type": "stream",
     "text": [
      "Previsão de atraso: 36.74 minutos\n"
     ]
    }
   ],
   "source": [
    "nova_amostra = [0.0, 10.8941, 0.0, 0.0, 0.0, 0.0, 1.0, 1.0, 0.0, 0.0, 0.0, 0.0, 0.0]\n",
    "\n",
    "# Exemplo de previsão com dados de entrada 'X'\n",
    "print(f'Previsão de atraso: {round(model.predict([nova_amostra])[0], 2)} minutos')"
   ]
  }
 ],
 "metadata": {
  "kernelspec": {
   "display_name": "base",
   "language": "python",
   "name": "python3"
  },
  "language_info": {
   "codemirror_mode": {
    "name": "ipython",
    "version": 3
   },
   "file_extension": ".py",
   "mimetype": "text/x-python",
   "name": "python",
   "nbconvert_exporter": "python",
   "pygments_lexer": "ipython3",
   "version": "3.11.5"
  }
 },
 "nbformat": 4,
 "nbformat_minor": 2
}
